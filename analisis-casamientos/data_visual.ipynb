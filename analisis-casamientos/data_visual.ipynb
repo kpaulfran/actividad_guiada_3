{
  "nbformat": 4,
  "nbformat_minor": 0,
  "metadata": {
    "colab": {
      "provenance": []
    },
    "kernelspec": {
      "name": "python3",
      "display_name": "Python 3"
    },
    "language_info": {
      "name": "python"
    }
  },
  "cells": [
    {
      "cell_type": "code",
      "execution_count": 55,
      "metadata": {
        "id": "BtXw4HmqCzX5"
      },
      "outputs": [],
      "source": [
        "import pandas as pd\n",
        "import matplotlib.pyplot as plt\n",
        "from pylab import *"
      ]
    },
    {
      "cell_type": "code",
      "source": [
        "df = pd.read_csv('/content/Median Age at First Marriage .csv')\n",
        "df.info()"
      ],
      "metadata": {
        "colab": {
          "base_uri": "https://localhost:8080/"
        },
        "id": "FOku33sYD5-x",
        "outputId": "d03af97b-ab1e-4f76-c6b4-8ec12d7f2356"
      },
      "execution_count": 56,
      "outputs": [
        {
          "output_type": "stream",
          "name": "stdout",
          "text": [
            "<class 'pandas.core.frame.DataFrame'>\n",
            "RangeIndex: 104 entries, 0 to 103\n",
            "Data columns (total 6 columns):\n",
            " #   Column                        Non-Null Count  Dtype  \n",
            "---  ------                        --------------  -----  \n",
            " 0   FIPS                          104 non-null    object \n",
            " 1   Name                          104 non-null    object \n",
            " 2   Type                          104 non-null    object \n",
            " 3   TimeFrame                     104 non-null    object \n",
            " 4   Median Age                    104 non-null    float64\n",
            " 5   Population Density per Sq Mi  104 non-null    float64\n",
            "dtypes: float64(2), object(4)\n",
            "memory usage: 5.0+ KB\n"
          ]
        }
      ]
    },
    {
      "cell_type": "code",
      "source": [
        "df.head(10)"
      ],
      "metadata": {
        "colab": {
          "base_uri": "https://localhost:8080/",
          "height": 363
        },
        "id": "kf_TewONEH9h",
        "outputId": "f25a7e03-9428-4cc8-9e7e-aac1590830c6"
      },
      "execution_count": 57,
      "outputs": [
        {
          "output_type": "execute_result",
          "data": {
            "text/plain": [
              "  FIPS                  Name   Type  TimeFrame  Median Age  \\\n",
              "0    1               Alabama  State  2006-2010        25.5   \n",
              "1    2                Alaska  State  2006-2010        24.8   \n",
              "2    4               Arizona  State  2006-2010        25.6   \n",
              "3    5              Arkansas  State  2006-2010        24.5   \n",
              "4    6            California  State  2006-2010        26.9   \n",
              "5    8              Colorado  State  2006-2010        25.7   \n",
              "6    9           Connecticut  State  2006-2010        27.6   \n",
              "7   10              Delaware  State  2006-2010        26.4   \n",
              "8   11  District of Columbia  State  2006-2010        29.6   \n",
              "9   12               Florida  State  2006-2010        26.6   \n",
              "\n",
              "   Population Density per Sq Mi  \n",
              "0                          94.4  \n",
              "1                           1.2  \n",
              "2                          56.3  \n",
              "3                          56.0  \n",
              "4                         239.1  \n",
              "5                          48.5  \n",
              "6                         738.1  \n",
              "7                         460.8  \n",
              "8                        9856.5  \n",
              "9                         350.6  "
            ],
            "text/html": [
              "\n",
              "  <div id=\"df-743ff6f9-4907-47c9-8860-5c41c88fb84d\">\n",
              "    <div class=\"colab-df-container\">\n",
              "      <div>\n",
              "<style scoped>\n",
              "    .dataframe tbody tr th:only-of-type {\n",
              "        vertical-align: middle;\n",
              "    }\n",
              "\n",
              "    .dataframe tbody tr th {\n",
              "        vertical-align: top;\n",
              "    }\n",
              "\n",
              "    .dataframe thead th {\n",
              "        text-align: right;\n",
              "    }\n",
              "</style>\n",
              "<table border=\"1\" class=\"dataframe\">\n",
              "  <thead>\n",
              "    <tr style=\"text-align: right;\">\n",
              "      <th></th>\n",
              "      <th>FIPS</th>\n",
              "      <th>Name</th>\n",
              "      <th>Type</th>\n",
              "      <th>TimeFrame</th>\n",
              "      <th>Median Age</th>\n",
              "      <th>Population Density per Sq Mi</th>\n",
              "    </tr>\n",
              "  </thead>\n",
              "  <tbody>\n",
              "    <tr>\n",
              "      <th>0</th>\n",
              "      <td>1</td>\n",
              "      <td>Alabama</td>\n",
              "      <td>State</td>\n",
              "      <td>2006-2010</td>\n",
              "      <td>25.5</td>\n",
              "      <td>94.4</td>\n",
              "    </tr>\n",
              "    <tr>\n",
              "      <th>1</th>\n",
              "      <td>2</td>\n",
              "      <td>Alaska</td>\n",
              "      <td>State</td>\n",
              "      <td>2006-2010</td>\n",
              "      <td>24.8</td>\n",
              "      <td>1.2</td>\n",
              "    </tr>\n",
              "    <tr>\n",
              "      <th>2</th>\n",
              "      <td>4</td>\n",
              "      <td>Arizona</td>\n",
              "      <td>State</td>\n",
              "      <td>2006-2010</td>\n",
              "      <td>25.6</td>\n",
              "      <td>56.3</td>\n",
              "    </tr>\n",
              "    <tr>\n",
              "      <th>3</th>\n",
              "      <td>5</td>\n",
              "      <td>Arkansas</td>\n",
              "      <td>State</td>\n",
              "      <td>2006-2010</td>\n",
              "      <td>24.5</td>\n",
              "      <td>56.0</td>\n",
              "    </tr>\n",
              "    <tr>\n",
              "      <th>4</th>\n",
              "      <td>6</td>\n",
              "      <td>California</td>\n",
              "      <td>State</td>\n",
              "      <td>2006-2010</td>\n",
              "      <td>26.9</td>\n",
              "      <td>239.1</td>\n",
              "    </tr>\n",
              "    <tr>\n",
              "      <th>5</th>\n",
              "      <td>8</td>\n",
              "      <td>Colorado</td>\n",
              "      <td>State</td>\n",
              "      <td>2006-2010</td>\n",
              "      <td>25.7</td>\n",
              "      <td>48.5</td>\n",
              "    </tr>\n",
              "    <tr>\n",
              "      <th>6</th>\n",
              "      <td>9</td>\n",
              "      <td>Connecticut</td>\n",
              "      <td>State</td>\n",
              "      <td>2006-2010</td>\n",
              "      <td>27.6</td>\n",
              "      <td>738.1</td>\n",
              "    </tr>\n",
              "    <tr>\n",
              "      <th>7</th>\n",
              "      <td>10</td>\n",
              "      <td>Delaware</td>\n",
              "      <td>State</td>\n",
              "      <td>2006-2010</td>\n",
              "      <td>26.4</td>\n",
              "      <td>460.8</td>\n",
              "    </tr>\n",
              "    <tr>\n",
              "      <th>8</th>\n",
              "      <td>11</td>\n",
              "      <td>District of Columbia</td>\n",
              "      <td>State</td>\n",
              "      <td>2006-2010</td>\n",
              "      <td>29.6</td>\n",
              "      <td>9856.5</td>\n",
              "    </tr>\n",
              "    <tr>\n",
              "      <th>9</th>\n",
              "      <td>12</td>\n",
              "      <td>Florida</td>\n",
              "      <td>State</td>\n",
              "      <td>2006-2010</td>\n",
              "      <td>26.6</td>\n",
              "      <td>350.6</td>\n",
              "    </tr>\n",
              "  </tbody>\n",
              "</table>\n",
              "</div>\n",
              "      <button class=\"colab-df-convert\" onclick=\"convertToInteractive('df-743ff6f9-4907-47c9-8860-5c41c88fb84d')\"\n",
              "              title=\"Convert this dataframe to an interactive table.\"\n",
              "              style=\"display:none;\">\n",
              "        \n",
              "  <svg xmlns=\"http://www.w3.org/2000/svg\" height=\"24px\"viewBox=\"0 0 24 24\"\n",
              "       width=\"24px\">\n",
              "    <path d=\"M0 0h24v24H0V0z\" fill=\"none\"/>\n",
              "    <path d=\"M18.56 5.44l.94 2.06.94-2.06 2.06-.94-2.06-.94-.94-2.06-.94 2.06-2.06.94zm-11 1L8.5 8.5l.94-2.06 2.06-.94-2.06-.94L8.5 2.5l-.94 2.06-2.06.94zm10 10l.94 2.06.94-2.06 2.06-.94-2.06-.94-.94-2.06-.94 2.06-2.06.94z\"/><path d=\"M17.41 7.96l-1.37-1.37c-.4-.4-.92-.59-1.43-.59-.52 0-1.04.2-1.43.59L10.3 9.45l-7.72 7.72c-.78.78-.78 2.05 0 2.83L4 21.41c.39.39.9.59 1.41.59.51 0 1.02-.2 1.41-.59l7.78-7.78 2.81-2.81c.8-.78.8-2.07 0-2.86zM5.41 20L4 18.59l7.72-7.72 1.47 1.35L5.41 20z\"/>\n",
              "  </svg>\n",
              "      </button>\n",
              "      \n",
              "  <style>\n",
              "    .colab-df-container {\n",
              "      display:flex;\n",
              "      flex-wrap:wrap;\n",
              "      gap: 12px;\n",
              "    }\n",
              "\n",
              "    .colab-df-convert {\n",
              "      background-color: #E8F0FE;\n",
              "      border: none;\n",
              "      border-radius: 50%;\n",
              "      cursor: pointer;\n",
              "      display: none;\n",
              "      fill: #1967D2;\n",
              "      height: 32px;\n",
              "      padding: 0 0 0 0;\n",
              "      width: 32px;\n",
              "    }\n",
              "\n",
              "    .colab-df-convert:hover {\n",
              "      background-color: #E2EBFA;\n",
              "      box-shadow: 0px 1px 2px rgba(60, 64, 67, 0.3), 0px 1px 3px 1px rgba(60, 64, 67, 0.15);\n",
              "      fill: #174EA6;\n",
              "    }\n",
              "\n",
              "    [theme=dark] .colab-df-convert {\n",
              "      background-color: #3B4455;\n",
              "      fill: #D2E3FC;\n",
              "    }\n",
              "\n",
              "    [theme=dark] .colab-df-convert:hover {\n",
              "      background-color: #434B5C;\n",
              "      box-shadow: 0px 1px 3px 1px rgba(0, 0, 0, 0.15);\n",
              "      filter: drop-shadow(0px 1px 2px rgba(0, 0, 0, 0.3));\n",
              "      fill: #FFFFFF;\n",
              "    }\n",
              "  </style>\n",
              "\n",
              "      <script>\n",
              "        const buttonEl =\n",
              "          document.querySelector('#df-743ff6f9-4907-47c9-8860-5c41c88fb84d button.colab-df-convert');\n",
              "        buttonEl.style.display =\n",
              "          google.colab.kernel.accessAllowed ? 'block' : 'none';\n",
              "\n",
              "        async function convertToInteractive(key) {\n",
              "          const element = document.querySelector('#df-743ff6f9-4907-47c9-8860-5c41c88fb84d');\n",
              "          const dataTable =\n",
              "            await google.colab.kernel.invokeFunction('convertToInteractive',\n",
              "                                                     [key], {});\n",
              "          if (!dataTable) return;\n",
              "\n",
              "          const docLinkHtml = 'Like what you see? Visit the ' +\n",
              "            '<a target=\"_blank\" href=https://colab.research.google.com/notebooks/data_table.ipynb>data table notebook</a>'\n",
              "            + ' to learn more about interactive tables.';\n",
              "          element.innerHTML = '';\n",
              "          dataTable['output_type'] = 'display_data';\n",
              "          await google.colab.output.renderOutput(dataTable, element);\n",
              "          const docLink = document.createElement('div');\n",
              "          docLink.innerHTML = docLinkHtml;\n",
              "          element.appendChild(docLink);\n",
              "        }\n",
              "      </script>\n",
              "    </div>\n",
              "  </div>\n",
              "  "
            ]
          },
          "metadata": {},
          "execution_count": 57
        }
      ]
    },
    {
      "cell_type": "code",
      "source": [
        "df['TimeFrame'].unique()"
      ],
      "metadata": {
        "colab": {
          "base_uri": "https://localhost:8080/"
        },
        "id": "RB6w-GYcFDSz",
        "outputId": "b8b651ad-908f-4317-c32c-3d03a290e2d4"
      },
      "execution_count": 58,
      "outputs": [
        {
          "output_type": "execute_result",
          "data": {
            "text/plain": [
              "array(['2006-2010', '2015-2019'], dtype=object)"
            ]
          },
          "metadata": {},
          "execution_count": 58
        }
      ]
    },
    {
      "cell_type": "markdown",
      "source": [
        "Median Age at First Marriage"
      ],
      "metadata": {
        "id": "1tWpl6AdFMxh"
      }
    },
    {
      "cell_type": "code",
      "source": [
        "plt.style.use('seaborn')\n",
        "plt.figure(dpi = 120)\n",
        "\n",
        "#Data to use\n",
        "\n",
        "data_1 = df.loc[df['TimeFrame'] == '2006-2010']\n",
        "mean_1 = data_1['Median Age'].mean()\n",
        "data_2 = df.loc[df['TimeFrame'] == '2015-2019']\n",
        "mean_2 = data_2['Median Age'].mean()\n",
        "\n",
        "#first boxplot configuration\n",
        "\n",
        "subplot(131)\n",
        "\n",
        "boxplot(data_1['Median Age'], 'g-')\n",
        "title('Median Age at First Marriage', fontsize = 16)\n",
        "ylim(bottom=20, top=32)\n",
        "xlabel('2006-2010',fontsize = 16)\n",
        "ylabel('Age', fontsize = 16)\n",
        "xticks(c= 'white')\n",
        "\n",
        "#second boxplot configuration\n",
        "\n",
        "subplot(132)\n",
        "boxplot(data_2['Median Age'],'g-')\n",
        "ylim(bottom=20, top=32)\n",
        "xlabel('2015-2019', fontsize = 16)\n",
        "xticks(c= 'white')\n"
      ],
      "metadata": {
        "colab": {
          "base_uri": "https://localhost:8080/",
          "height": 646
        },
        "id": "POdDQK3uFL4g",
        "outputId": "3c25bc27-23b9-4878-a538-98a4e1ecf5e2"
      },
      "execution_count": 100,
      "outputs": [
        {
          "output_type": "execute_result",
          "data": {
            "text/plain": [
              "(array([1]), <a list of 1 Text major ticklabel objects>)"
            ]
          },
          "metadata": {},
          "execution_count": 100
        },
        {
          "output_type": "display_data",
          "data": {
            "text/plain": [
              "<Figure size 960x660 with 2 Axes>"
            ],
            "image/png": "[encoded data removed]"
          },
          "metadata": {}
        }
      ]
    }
  ]
}